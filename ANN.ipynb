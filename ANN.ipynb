{
  "nbformat": 4,
  "nbformat_minor": 0,
  "metadata": {
    "colab": {
      "provenance": []
    },
    "kernelspec": {
      "name": "python3",
      "display_name": "Python 3"
    },
    "language_info": {
      "name": "python"
    }
  },
  "cells": [
    {
      "cell_type": "code",
      "execution_count": 1,
      "metadata": {
        "id": "lfmOhrau82AT"
      },
      "outputs": [],
      "source": [
        "import numpy as np\n",
        "import pandas as pd\n",
        "import matplotlib.pyplot as plt\n",
        "from sklearn.model_selection import train_test_split\n",
        "from sklearn.preprocessing import StandardScaler\n",
        "import tensorflow as tf\n",
        "from google.colab import files\n",
        "import io\n"
      ]
    },
    {
      "cell_type": "code",
      "source": [
        "def trainDataSet():\n",
        "    uploaded = files.upload()\n",
        "    df = pd.read_excel(io.BytesIO(uploaded['train.xls']))\n",
        "    try:\n",
        "        df.rename({\"Unnamed: 0\":\"a\"}, axis=\"columns\", inplace=True)\n",
        "        df.drop([\"a\"], axis=1, inplace=True)\n",
        "        df = df.drop([0], axis=0, inplace=False)\n",
        "        df.duplicated().sum()\n",
        "        df = df.drop_duplicates()\n",
        "    except:\n",
        "        df = df\n",
        "    \n",
        "    arr = df.to_numpy()\n",
        "    X = arr[:, 0:23]\n",
        "    Y = arr[:,23]\n",
        "    X_train, X_test, Y_train, Y_test = train_test_split(X, Y, random_state=42)\n",
        "    scaler = StandardScaler()\n",
        "    scaler.fit(X_train)\n",
        "    X_train=scaler.transform(X_train)\n",
        "    X_test=scaler.transform(X_test)\n",
        "    \n",
        "    return (X_train, X_test, Y_train, Y_test, scaler)\n"
      ],
      "metadata": {
        "id": "qSfMfz8L9J-s"
      },
      "execution_count": 2,
      "outputs": []
    },
    {
      "cell_type": "code",
      "source": [
        "def currentDataSet(data):\n",
        "    X_train, X_test, Y_train, Y_test, scaler = trainDataSet()\n",
        "    X_input = data.to_numpy()\n",
        "    X_input = scaler.transform(X_input)\n",
        "    return X_input\n"
      ],
      "metadata": {
        "id": "S9wyXGzt9UVI"
      },
      "execution_count": 3,
      "outputs": []
    },
    {
      "cell_type": "code",
      "source": [
        "(X_train, X_test, Y_train, Y_test, scaler) = trainDataSet()"
      ],
      "metadata": {
        "colab": {
          "base_uri": "https://localhost:8080/",
          "height": 74
        },
        "id": "IJWQ6KqT9Y2P",
        "outputId": "40ce6464-c06a-4547-e0a7-fbb871e04c9d"
      },
      "execution_count": 4,
      "outputs": [
        {
          "output_type": "display_data",
          "data": {
            "text/plain": [
              "<IPython.core.display.HTML object>"
            ],
            "text/html": [
              "\n",
              "     <input type=\"file\" id=\"files-04afa3a7-0920-4342-bc2c-354c4a1d6f09\" name=\"files[]\" multiple disabled\n",
              "        style=\"border:none\" />\n",
              "     <output id=\"result-04afa3a7-0920-4342-bc2c-354c4a1d6f09\">\n",
              "      Upload widget is only available when the cell has been executed in the\n",
              "      current browser session. Please rerun this cell to enable.\n",
              "      </output>\n",
              "      <script>// Copyright 2017 Google LLC\n",
              "//\n",
              "// Licensed under the Apache License, Version 2.0 (the \"License\");\n",
              "// you may not use this file except in compliance with the License.\n",
              "// You may obtain a copy of the License at\n",
              "//\n",
              "//      http://www.apache.org/licenses/LICENSE-2.0\n",
              "//\n",
              "// Unless required by applicable law or agreed to in writing, software\n",
              "// distributed under the License is distributed on an \"AS IS\" BASIS,\n",
              "// WITHOUT WARRANTIES OR CONDITIONS OF ANY KIND, either express or implied.\n",
              "// See the License for the specific language governing permissions and\n",
              "// limitations under the License.\n",
              "\n",
              "/**\n",
              " * @fileoverview Helpers for google.colab Python module.\n",
              " */\n",
              "(function(scope) {\n",
              "function span(text, styleAttributes = {}) {\n",
              "  const element = document.createElement('span');\n",
              "  element.textContent = text;\n",
              "  for (const key of Object.keys(styleAttributes)) {\n",
              "    element.style[key] = styleAttributes[key];\n",
              "  }\n",
              "  return element;\n",
              "}\n",
              "\n",
              "// Max number of bytes which will be uploaded at a time.\n",
              "const MAX_PAYLOAD_SIZE = 100 * 1024;\n",
              "\n",
              "function _uploadFiles(inputId, outputId) {\n",
              "  const steps = uploadFilesStep(inputId, outputId);\n",
              "  const outputElement = document.getElementById(outputId);\n",
              "  // Cache steps on the outputElement to make it available for the next call\n",
              "  // to uploadFilesContinue from Python.\n",
              "  outputElement.steps = steps;\n",
              "\n",
              "  return _uploadFilesContinue(outputId);\n",
              "}\n",
              "\n",
              "// This is roughly an async generator (not supported in the browser yet),\n",
              "// where there are multiple asynchronous steps and the Python side is going\n",
              "// to poll for completion of each step.\n",
              "// This uses a Promise to block the python side on completion of each step,\n",
              "// then passes the result of the previous step as the input to the next step.\n",
              "function _uploadFilesContinue(outputId) {\n",
              "  const outputElement = document.getElementById(outputId);\n",
              "  const steps = outputElement.steps;\n",
              "\n",
              "  const next = steps.next(outputElement.lastPromiseValue);\n",
              "  return Promise.resolve(next.value.promise).then((value) => {\n",
              "    // Cache the last promise value to make it available to the next\n",
              "    // step of the generator.\n",
              "    outputElement.lastPromiseValue = value;\n",
              "    return next.value.response;\n",
              "  });\n",
              "}\n",
              "\n",
              "/**\n",
              " * Generator function which is called between each async step of the upload\n",
              " * process.\n",
              " * @param {string} inputId Element ID of the input file picker element.\n",
              " * @param {string} outputId Element ID of the output display.\n",
              " * @return {!Iterable<!Object>} Iterable of next steps.\n",
              " */\n",
              "function* uploadFilesStep(inputId, outputId) {\n",
              "  const inputElement = document.getElementById(inputId);\n",
              "  inputElement.disabled = false;\n",
              "\n",
              "  const outputElement = document.getElementById(outputId);\n",
              "  outputElement.innerHTML = '';\n",
              "\n",
              "  const pickedPromise = new Promise((resolve) => {\n",
              "    inputElement.addEventListener('change', (e) => {\n",
              "      resolve(e.target.files);\n",
              "    });\n",
              "  });\n",
              "\n",
              "  const cancel = document.createElement('button');\n",
              "  inputElement.parentElement.appendChild(cancel);\n",
              "  cancel.textContent = 'Cancel upload';\n",
              "  const cancelPromise = new Promise((resolve) => {\n",
              "    cancel.onclick = () => {\n",
              "      resolve(null);\n",
              "    };\n",
              "  });\n",
              "\n",
              "  // Wait for the user to pick the files.\n",
              "  const files = yield {\n",
              "    promise: Promise.race([pickedPromise, cancelPromise]),\n",
              "    response: {\n",
              "      action: 'starting',\n",
              "    }\n",
              "  };\n",
              "\n",
              "  cancel.remove();\n",
              "\n",
              "  // Disable the input element since further picks are not allowed.\n",
              "  inputElement.disabled = true;\n",
              "\n",
              "  if (!files) {\n",
              "    return {\n",
              "      response: {\n",
              "        action: 'complete',\n",
              "      }\n",
              "    };\n",
              "  }\n",
              "\n",
              "  for (const file of files) {\n",
              "    const li = document.createElement('li');\n",
              "    li.append(span(file.name, {fontWeight: 'bold'}));\n",
              "    li.append(span(\n",
              "        `(${file.type || 'n/a'}) - ${file.size} bytes, ` +\n",
              "        `last modified: ${\n",
              "            file.lastModifiedDate ? file.lastModifiedDate.toLocaleDateString() :\n",
              "                                    'n/a'} - `));\n",
              "    const percent = span('0% done');\n",
              "    li.appendChild(percent);\n",
              "\n",
              "    outputElement.appendChild(li);\n",
              "\n",
              "    const fileDataPromise = new Promise((resolve) => {\n",
              "      const reader = new FileReader();\n",
              "      reader.onload = (e) => {\n",
              "        resolve(e.target.result);\n",
              "      };\n",
              "      reader.readAsArrayBuffer(file);\n",
              "    });\n",
              "    // Wait for the data to be ready.\n",
              "    let fileData = yield {\n",
              "      promise: fileDataPromise,\n",
              "      response: {\n",
              "        action: 'continue',\n",
              "      }\n",
              "    };\n",
              "\n",
              "    // Use a chunked sending to avoid message size limits. See b/62115660.\n",
              "    let position = 0;\n",
              "    do {\n",
              "      const length = Math.min(fileData.byteLength - position, MAX_PAYLOAD_SIZE);\n",
              "      const chunk = new Uint8Array(fileData, position, length);\n",
              "      position += length;\n",
              "\n",
              "      const base64 = btoa(String.fromCharCode.apply(null, chunk));\n",
              "      yield {\n",
              "        response: {\n",
              "          action: 'append',\n",
              "          file: file.name,\n",
              "          data: base64,\n",
              "        },\n",
              "      };\n",
              "\n",
              "      let percentDone = fileData.byteLength === 0 ?\n",
              "          100 :\n",
              "          Math.round((position / fileData.byteLength) * 100);\n",
              "      percent.textContent = `${percentDone}% done`;\n",
              "\n",
              "    } while (position < fileData.byteLength);\n",
              "  }\n",
              "\n",
              "  // All done.\n",
              "  yield {\n",
              "    response: {\n",
              "      action: 'complete',\n",
              "    }\n",
              "  };\n",
              "}\n",
              "\n",
              "scope.google = scope.google || {};\n",
              "scope.google.colab = scope.google.colab || {};\n",
              "scope.google.colab._files = {\n",
              "  _uploadFiles,\n",
              "  _uploadFilesContinue,\n",
              "};\n",
              "})(self);\n",
              "</script> "
            ]
          },
          "metadata": {}
        },
        {
          "output_type": "stream",
          "name": "stdout",
          "text": [
            "Saving train.xls to train (4).xls\n"
          ]
        }
      ]
    },
    {
      "cell_type": "code",
      "source": [
        "p=np.sum(Y_train)\n",
        "total = np.shape(Y_train)[0]\n",
        "weight0 = (1/(total-p)*total/2.0)\n",
        "weight1 = ((1/p)*total/2.0)\n",
        "class_weights = { 0: weight0, 1: weight1}"
      ],
      "metadata": {
        "id": "ww0GHWwKzJsp"
      },
      "execution_count": 5,
      "outputs": []
    },
    {
      "cell_type": "code",
      "source": [
        "X_train = tf.convert_to_tensor(X_train, dtype=tf.float64)\n",
        "Y_train = tf.convert_to_tensor(Y_train, dtype=tf.float64)\n",
        "X_test = tf.convert_to_tensor(X_test, dtype=tf.float64)\n",
        "Y_test = tf.convert_to_tensor(Y_test, dtype=tf.float64)"
      ],
      "metadata": {
        "id": "honM2w83uhke"
      },
      "execution_count": 6,
      "outputs": []
    },
    {
      "cell_type": "code",
      "source": [
        "tf.shape(X_train)"
      ],
      "metadata": {
        "colab": {
          "base_uri": "https://localhost:8080/"
        },
        "id": "GZHzZOhYuhtW",
        "outputId": "450664d8-bcad-4b49-8d76-c3aec411ffe4"
      },
      "execution_count": 7,
      "outputs": [
        {
          "output_type": "execute_result",
          "data": {
            "text/plain": [
              "<tf.Tensor: shape=(2,), dtype=int32, numpy=array([22473,    23], dtype=int32)>"
            ]
          },
          "metadata": {},
          "execution_count": 7
        }
      ]
    },
    {
      "cell_type": "code",
      "source": [],
      "metadata": {
        "id": "4tp4xQ7AzIvn"
      },
      "execution_count": null,
      "outputs": []
    },
    {
      "cell_type": "code",
      "source": [
        "from tensorflow import keras\n",
        "from tensorflow.keras import layers\n",
        "model = keras.Sequential(\n",
        "    [ keras.Input(shape=(23,)),\n",
        "      layers.Dense(15, activation = \"sigmoid\"),\n",
        "      layers.Dense(8, activation = \"sigmoid\"),\n",
        "      layers.Dense(6, activation = \"sigmoid\"),\n",
        "      layers.Dense(3, activation = \"sigmoid\"),\n",
        "      layers.Dense(1, activation = \"sigmoid\", name = \"output\")])\n"
      ],
      "metadata": {
        "id": "UmbKXQ2fD2Op"
      },
      "execution_count": 28,
      "outputs": []
    },
    {
      "cell_type": "code",
      "source": [
        "model.compile(\n",
        "     optimizer=keras.optimizers.Adam(),\n",
        "     loss=keras.losses.BinaryCrossentropy(),\n",
        "     metrics=[keras.metrics.TruePositives(), keras.metrics.FalseNegatives(), keras.metrics.FalsePositives(), keras.metrics.TrueNegatives(), keras.metrics.Recall(), keras.metrics.BinaryAccuracy(), keras.metrics.AUC()])"
      ],
      "metadata": {
        "id": "h06ajpyetDpA"
      },
      "execution_count": 30,
      "outputs": []
    },
    {
      "cell_type": "code",
      "source": [
        "history = model.fit(X_train, Y_train, epochs = 50  , class_weight = class_weights)"
      ],
      "metadata": {
        "colab": {
          "base_uri": "https://localhost:8080/"
        },
        "id": "dxS8lcTltG_E",
        "outputId": "4634b8c5-f777-4354-e232-74e9bd43c05e"
      },
      "execution_count": 31,
      "outputs": [
        {
          "output_type": "stream",
          "name": "stdout",
          "text": [
            "Epoch 1/50\n",
            "703/703 [==============================] - 4s 3ms/step - loss: 0.6792 - true_positives_6: 2003.0000 - false_negatives_6: 2940.0000 - false_positives_6: 2916.0000 - true_negatives_6: 14614.0000 - recall_1: 0.4052 - binary_accuracy: 0.7394 - auc_6: 0.6297\n",
            "Epoch 2/50\n",
            "703/703 [==============================] - 2s 3ms/step - loss: 0.6246 - true_positives_6: 2720.0000 - false_negatives_6: 2223.0000 - false_positives_6: 3251.0000 - true_negatives_6: 14279.0000 - recall_1: 0.5503 - binary_accuracy: 0.7564 - auc_6: 0.7117\n",
            "Epoch 3/50\n",
            "703/703 [==============================] - 3s 4ms/step - loss: 0.6009 - true_positives_6: 2577.0000 - false_negatives_6: 2366.0000 - false_positives_6: 2528.0000 - true_negatives_6: 15002.0000 - recall_1: 0.5213 - binary_accuracy: 0.7822 - auc_6: 0.7210\n",
            "Epoch 4/50\n",
            "703/703 [==============================] - 3s 4ms/step - loss: 0.5950 - true_positives_6: 2561.0000 - false_negatives_6: 2382.0000 - false_positives_6: 2456.0000 - true_negatives_6: 15074.0000 - recall_1: 0.5181 - binary_accuracy: 0.7847 - auc_6: 0.7251\n",
            "Epoch 5/50\n",
            "703/703 [==============================] - 3s 4ms/step - loss: 0.5925 - true_positives_6: 2624.0000 - false_negatives_6: 2319.0000 - false_positives_6: 2528.0000 - true_negatives_6: 15002.0000 - recall_1: 0.5309 - binary_accuracy: 0.7843 - auc_6: 0.7270\n",
            "Epoch 6/50\n",
            "703/703 [==============================] - 3s 4ms/step - loss: 0.5902 - true_positives_6: 2594.0000 - false_negatives_6: 2349.0000 - false_positives_6: 2390.0000 - true_negatives_6: 15140.0000 - recall_1: 0.5248 - binary_accuracy: 0.7891 - auc_6: 0.7288\n",
            "Epoch 7/50\n",
            "703/703 [==============================] - 2s 3ms/step - loss: 0.5883 - true_positives_6: 2626.0000 - false_negatives_6: 2317.0000 - false_positives_6: 2449.0000 - true_negatives_6: 15081.0000 - recall_1: 0.5313 - binary_accuracy: 0.7879 - auc_6: 0.7290\n",
            "Epoch 8/50\n",
            "703/703 [==============================] - 3s 4ms/step - loss: 0.5869 - true_positives_6: 2642.0000 - false_negatives_6: 2301.0000 - false_positives_6: 2476.0000 - true_negatives_6: 15054.0000 - recall_1: 0.5345 - binary_accuracy: 0.7874 - auc_6: 0.7315\n",
            "Epoch 9/50\n",
            "703/703 [==============================] - 3s 4ms/step - loss: 0.5858 - true_positives_6: 2671.0000 - false_negatives_6: 2272.0000 - false_positives_6: 2489.0000 - true_negatives_6: 15041.0000 - recall_1: 0.5404 - binary_accuracy: 0.7881 - auc_6: 0.7328\n",
            "Epoch 10/50\n",
            "703/703 [==============================] - 3s 4ms/step - loss: 0.5849 - true_positives_6: 2665.0000 - false_negatives_6: 2278.0000 - false_positives_6: 2525.0000 - true_negatives_6: 15005.0000 - recall_1: 0.5391 - binary_accuracy: 0.7863 - auc_6: 0.7350\n",
            "Epoch 11/50\n",
            "703/703 [==============================] - 3s 4ms/step - loss: 0.5838 - true_positives_6: 2695.0000 - false_negatives_6: 2248.0000 - false_positives_6: 2574.0000 - true_negatives_6: 14956.0000 - recall_1: 0.5452 - binary_accuracy: 0.7854 - auc_6: 0.7371\n",
            "Epoch 12/50\n",
            "703/703 [==============================] - 3s 4ms/step - loss: 0.5828 - true_positives_6: 2712.0000 - false_negatives_6: 2231.0000 - false_positives_6: 2623.0000 - true_negatives_6: 14907.0000 - recall_1: 0.5487 - binary_accuracy: 0.7840 - auc_6: 0.7406\n",
            "Epoch 13/50\n",
            "703/703 [==============================] - 3s 4ms/step - loss: 0.5818 - true_positives_6: 2724.0000 - false_negatives_6: 2219.0000 - false_positives_6: 2671.0000 - true_negatives_6: 14859.0000 - recall_1: 0.5511 - binary_accuracy: 0.7824 - auc_6: 0.7436\n",
            "Epoch 14/50\n",
            "703/703 [==============================] - 3s 4ms/step - loss: 0.5801 - true_positives_6: 2749.0000 - false_negatives_6: 2194.0000 - false_positives_6: 2760.0000 - true_negatives_6: 14770.0000 - recall_1: 0.5561 - binary_accuracy: 0.7796 - auc_6: 0.7476\n",
            "Epoch 15/50\n",
            "703/703 [==============================] - 3s 4ms/step - loss: 0.5787 - true_positives_6: 2802.0000 - false_negatives_6: 2141.0000 - false_positives_6: 2888.0000 - true_negatives_6: 14642.0000 - recall_1: 0.5669 - binary_accuracy: 0.7762 - auc_6: 0.7523\n",
            "Epoch 16/50\n",
            "703/703 [==============================] - 3s 4ms/step - loss: 0.5761 - true_positives_6: 2825.0000 - false_negatives_6: 2118.0000 - false_positives_6: 2948.0000 - true_negatives_6: 14582.0000 - recall_1: 0.5715 - binary_accuracy: 0.7746 - auc_6: 0.7575\n",
            "Epoch 17/50\n",
            "703/703 [==============================] - 3s 4ms/step - loss: 0.5741 - true_positives_6: 2854.0000 - false_negatives_6: 2089.0000 - false_positives_6: 3070.0000 - true_negatives_6: 14460.0000 - recall_1: 0.5774 - binary_accuracy: 0.7704 - auc_6: 0.7611\n",
            "Epoch 18/50\n",
            "703/703 [==============================] - 3s 4ms/step - loss: 0.5720 - true_positives_6: 2879.0000 - false_negatives_6: 2064.0000 - false_positives_6: 3098.0000 - true_negatives_6: 14432.0000 - recall_1: 0.5824 - binary_accuracy: 0.7703 - auc_6: 0.7636\n",
            "Epoch 19/50\n",
            "703/703 [==============================] - 3s 4ms/step - loss: 0.5704 - true_positives_6: 2878.0000 - false_negatives_6: 2065.0000 - false_positives_6: 3083.0000 - true_negatives_6: 14447.0000 - recall_1: 0.5822 - binary_accuracy: 0.7709 - auc_6: 0.7656\n",
            "Epoch 20/50\n",
            "703/703 [==============================] - 3s 4ms/step - loss: 0.5690 - true_positives_6: 2865.0000 - false_negatives_6: 2078.0000 - false_positives_6: 3066.0000 - true_negatives_6: 14464.0000 - recall_1: 0.5796 - binary_accuracy: 0.7711 - auc_6: 0.7674\n",
            "Epoch 21/50\n",
            "703/703 [==============================] - 2s 3ms/step - loss: 0.5674 - true_positives_6: 2890.0000 - false_negatives_6: 2053.0000 - false_positives_6: 3114.0000 - true_negatives_6: 14416.0000 - recall_1: 0.5847 - binary_accuracy: 0.7701 - auc_6: 0.7697\n",
            "Epoch 22/50\n",
            "703/703 [==============================] - 3s 4ms/step - loss: 0.5665 - true_positives_6: 2924.0000 - false_negatives_6: 2019.0000 - false_positives_6: 3160.0000 - true_negatives_6: 14370.0000 - recall_1: 0.5915 - binary_accuracy: 0.7695 - auc_6: 0.7703\n",
            "Epoch 23/50\n",
            "703/703 [==============================] - 3s 4ms/step - loss: 0.5655 - true_positives_6: 2903.0000 - false_negatives_6: 2040.0000 - false_positives_6: 3063.0000 - true_negatives_6: 14467.0000 - recall_1: 0.5873 - binary_accuracy: 0.7729 - auc_6: 0.7721\n",
            "Epoch 24/50\n",
            "703/703 [==============================] - 3s 4ms/step - loss: 0.5646 - true_positives_6: 2938.0000 - false_negatives_6: 2005.0000 - false_positives_6: 3157.0000 - true_negatives_6: 14373.0000 - recall_1: 0.5944 - binary_accuracy: 0.7703 - auc_6: 0.7730\n",
            "Epoch 25/50\n",
            "703/703 [==============================] - 2s 4ms/step - loss: 0.5633 - true_positives_6: 2931.0000 - false_negatives_6: 2012.0000 - false_positives_6: 3100.0000 - true_negatives_6: 14430.0000 - recall_1: 0.5930 - binary_accuracy: 0.7725 - auc_6: 0.7748\n",
            "Epoch 26/50\n",
            "703/703 [==============================] - 3s 4ms/step - loss: 0.5628 - true_positives_6: 2960.0000 - false_negatives_6: 1983.0000 - false_positives_6: 3219.0000 - true_negatives_6: 14311.0000 - recall_1: 0.5988 - binary_accuracy: 0.7685 - auc_6: 0.7754\n",
            "Epoch 27/50\n",
            "703/703 [==============================] - 2s 3ms/step - loss: 0.5618 - true_positives_6: 2985.0000 - false_negatives_6: 1958.0000 - false_positives_6: 3233.0000 - true_negatives_6: 14297.0000 - recall_1: 0.6039 - binary_accuracy: 0.7690 - auc_6: 0.7766\n",
            "Epoch 28/50\n",
            "703/703 [==============================] - 3s 4ms/step - loss: 0.5613 - true_positives_6: 2961.0000 - false_negatives_6: 1982.0000 - false_positives_6: 3180.0000 - true_negatives_6: 14350.0000 - recall_1: 0.5990 - binary_accuracy: 0.7703 - auc_6: 0.7774\n",
            "Epoch 29/50\n",
            "703/703 [==============================] - 3s 4ms/step - loss: 0.5604 - true_positives_6: 3027.0000 - false_negatives_6: 1916.0000 - false_positives_6: 3265.0000 - true_negatives_6: 14265.0000 - recall_1: 0.6124 - binary_accuracy: 0.7695 - auc_6: 0.7788\n",
            "Epoch 30/50\n",
            "703/703 [==============================] - 2s 3ms/step - loss: 0.5599 - true_positives_6: 2996.0000 - false_negatives_6: 1947.0000 - false_positives_6: 3182.0000 - true_negatives_6: 14348.0000 - recall_1: 0.6061 - binary_accuracy: 0.7718 - auc_6: 0.7787\n",
            "Epoch 31/50\n",
            "703/703 [==============================] - 2s 3ms/step - loss: 0.5596 - true_positives_6: 3009.0000 - false_negatives_6: 1934.0000 - false_positives_6: 3282.0000 - true_negatives_6: 14248.0000 - recall_1: 0.6087 - binary_accuracy: 0.7679 - auc_6: 0.7794\n",
            "Epoch 32/50\n",
            "703/703 [==============================] - 3s 4ms/step - loss: 0.5591 - true_positives_6: 3014.0000 - false_negatives_6: 1929.0000 - false_positives_6: 3290.0000 - true_negatives_6: 14240.0000 - recall_1: 0.6098 - binary_accuracy: 0.7678 - auc_6: 0.7799\n",
            "Epoch 33/50\n",
            "703/703 [==============================] - 3s 4ms/step - loss: 0.5583 - true_positives_6: 3041.0000 - false_negatives_6: 1902.0000 - false_positives_6: 3326.0000 - true_negatives_6: 14204.0000 - recall_1: 0.6152 - binary_accuracy: 0.7674 - auc_6: 0.7808\n",
            "Epoch 34/50\n",
            "703/703 [==============================] - 3s 4ms/step - loss: 0.5582 - true_positives_6: 3034.0000 - false_negatives_6: 1909.0000 - false_positives_6: 3271.0000 - true_negatives_6: 14259.0000 - recall_1: 0.6138 - binary_accuracy: 0.7695 - auc_6: 0.7811\n",
            "Epoch 35/50\n",
            "703/703 [==============================] - 3s 4ms/step - loss: 0.5578 - true_positives_6: 3054.0000 - false_negatives_6: 1889.0000 - false_positives_6: 3369.0000 - true_negatives_6: 14161.0000 - recall_1: 0.6178 - binary_accuracy: 0.7660 - auc_6: 0.7815\n",
            "Epoch 36/50\n",
            "703/703 [==============================] - 3s 4ms/step - loss: 0.5573 - true_positives_6: 3045.0000 - false_negatives_6: 1898.0000 - false_positives_6: 3297.0000 - true_negatives_6: 14233.0000 - recall_1: 0.6160 - binary_accuracy: 0.7688 - auc_6: 0.7823\n",
            "Epoch 37/50\n",
            "703/703 [==============================] - 3s 4ms/step - loss: 0.5569 - true_positives_6: 3043.0000 - false_negatives_6: 1900.0000 - false_positives_6: 3325.0000 - true_negatives_6: 14205.0000 - recall_1: 0.6156 - binary_accuracy: 0.7675 - auc_6: 0.7824\n",
            "Epoch 38/50\n",
            "703/703 [==============================] - 2s 3ms/step - loss: 0.5566 - true_positives_6: 3065.0000 - false_negatives_6: 1878.0000 - false_positives_6: 3350.0000 - true_negatives_6: 14180.0000 - recall_1: 0.6201 - binary_accuracy: 0.7674 - auc_6: 0.7830\n",
            "Epoch 39/50\n",
            "703/703 [==============================] - 2s 3ms/step - loss: 0.5564 - true_positives_6: 3072.0000 - false_negatives_6: 1871.0000 - false_positives_6: 3387.0000 - true_negatives_6: 14143.0000 - recall_1: 0.6215 - binary_accuracy: 0.7660 - auc_6: 0.7830\n",
            "Epoch 40/50\n",
            "703/703 [==============================] - 3s 4ms/step - loss: 0.5560 - true_positives_6: 3055.0000 - false_negatives_6: 1888.0000 - false_positives_6: 3337.0000 - true_negatives_6: 14193.0000 - recall_1: 0.6180 - binary_accuracy: 0.7675 - auc_6: 0.7838\n",
            "Epoch 41/50\n",
            "703/703 [==============================] - 3s 4ms/step - loss: 0.5553 - true_positives_6: 3093.0000 - false_negatives_6: 1850.0000 - false_positives_6: 3379.0000 - true_negatives_6: 14151.0000 - recall_1: 0.6257 - binary_accuracy: 0.7673 - auc_6: 0.7845\n",
            "Epoch 42/50\n",
            "703/703 [==============================] - 3s 4ms/step - loss: 0.5552 - true_positives_6: 3049.0000 - false_negatives_6: 1894.0000 - false_positives_6: 3313.0000 - true_negatives_6: 14217.0000 - recall_1: 0.6168 - binary_accuracy: 0.7683 - auc_6: 0.7846\n",
            "Epoch 43/50\n",
            "703/703 [==============================] - 3s 4ms/step - loss: 0.5548 - true_positives_6: 3075.0000 - false_negatives_6: 1868.0000 - false_positives_6: 3386.0000 - true_negatives_6: 14144.0000 - recall_1: 0.6221 - binary_accuracy: 0.7662 - auc_6: 0.7850\n",
            "Epoch 44/50\n",
            "703/703 [==============================] - 3s 4ms/step - loss: 0.5544 - true_positives_6: 3064.0000 - false_negatives_6: 1879.0000 - false_positives_6: 3296.0000 - true_negatives_6: 14234.0000 - recall_1: 0.6199 - binary_accuracy: 0.7697 - auc_6: 0.7858\n",
            "Epoch 45/50\n",
            "703/703 [==============================] - 3s 4ms/step - loss: 0.5543 - true_positives_6: 3081.0000 - false_negatives_6: 1862.0000 - false_positives_6: 3381.0000 - true_negatives_6: 14149.0000 - recall_1: 0.6233 - binary_accuracy: 0.7667 - auc_6: 0.7858\n",
            "Epoch 46/50\n",
            "703/703 [==============================] - 3s 4ms/step - loss: 0.5538 - true_positives_6: 3057.0000 - false_negatives_6: 1886.0000 - false_positives_6: 3282.0000 - true_negatives_6: 14248.0000 - recall_1: 0.6185 - binary_accuracy: 0.7700 - auc_6: 0.7863\n",
            "Epoch 47/50\n",
            "703/703 [==============================] - 3s 4ms/step - loss: 0.5534 - true_positives_6: 3099.0000 - false_negatives_6: 1844.0000 - false_positives_6: 3442.0000 - true_negatives_6: 14088.0000 - recall_1: 0.6269 - binary_accuracy: 0.7648 - auc_6: 0.7867\n",
            "Epoch 48/50\n",
            "703/703 [==============================] - 3s 4ms/step - loss: 0.5534 - true_positives_6: 3080.0000 - false_negatives_6: 1863.0000 - false_positives_6: 3331.0000 - true_negatives_6: 14199.0000 - recall_1: 0.6231 - binary_accuracy: 0.7689 - auc_6: 0.7868\n",
            "Epoch 49/50\n",
            "703/703 [==============================] - 3s 4ms/step - loss: 0.5528 - true_positives_6: 3119.0000 - false_negatives_6: 1824.0000 - false_positives_6: 3419.0000 - true_negatives_6: 14111.0000 - recall_1: 0.6310 - binary_accuracy: 0.7667 - auc_6: 0.7871\n",
            "Epoch 50/50\n",
            "703/703 [==============================] - 3s 4ms/step - loss: 0.5529 - true_positives_6: 3113.0000 - false_negatives_6: 1830.0000 - false_positives_6: 3442.0000 - true_negatives_6: 14088.0000 - recall_1: 0.6298 - binary_accuracy: 0.7654 - auc_6: 0.7873\n"
          ]
        }
      ]
    },
    {
      "cell_type": "code",
      "source": [
        "results = model.evaluate(X_test, Y_test)"
      ],
      "metadata": {
        "colab": {
          "base_uri": "https://localhost:8080/"
        },
        "id": "-Bs63gRwxn8F",
        "outputId": "c0ed25ab-afff-4c29-a61f-d9b9a8d72ce4"
      },
      "execution_count": 32,
      "outputs": [
        {
          "output_type": "stream",
          "name": "stdout",
          "text": [
            "235/235 [==============================] - 2s 3ms/step - loss: 0.5480 - true_positives_6: 972.0000 - false_negatives_6: 715.0000 - false_positives_6: 993.0000 - true_negatives_6: 4812.0000 - recall_1: 0.5762 - binary_accuracy: 0.7720 - auc_6: 0.7679\n"
          ]
        }
      ]
    },
    {
      "cell_type": "code",
      "source": [],
      "metadata": {
        "id": "qn8qAiPr2dr4"
      },
      "execution_count": 25,
      "outputs": []
    },
    {
      "cell_type": "code",
      "source": [],
      "metadata": {
        "id": "iQkE8pXv3WAK"
      },
      "execution_count": 91,
      "outputs": []
    }
  ]
}